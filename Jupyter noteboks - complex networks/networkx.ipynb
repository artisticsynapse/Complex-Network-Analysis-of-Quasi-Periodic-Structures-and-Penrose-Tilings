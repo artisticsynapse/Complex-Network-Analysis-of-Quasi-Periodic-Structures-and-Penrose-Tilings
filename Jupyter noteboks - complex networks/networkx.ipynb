{
 "cells": [
  {
   "cell_type": "markdown",
   "metadata": {},
   "source": [
    "**NetworkX Tutorial:** https://www.youtube.com/watch?v=pT0IUOkOcGg "
   ]
  },
  {
   "cell_type": "code",
   "execution_count": 1,
   "metadata": {},
   "outputs": [],
   "source": [
    "import networkx as nx"
   ]
  },
  {
   "cell_type": "code",
   "execution_count": 2,
   "metadata": {},
   "outputs": [],
   "source": [
    "import matplotlib.pyplot as plt"
   ]
  },
  {
   "cell_type": "code",
   "execution_count": 3,
   "metadata": {},
   "outputs": [],
   "source": [
    "%matplotlib inline"
   ]
  },
  {
   "cell_type": "code",
   "execution_count": 13,
   "metadata": {},
   "outputs": [
    {
     "data": {
      "image/png": "[encoded data removed]",
      "text/plain": [
       "<Figure size 432x288 with 1 Axes>"
      ]
     },
     "metadata": {},
     "output_type": "display_data"
    }
   ],
   "source": [
    "G=nx.Graph()\n",
    "\n",
    "#adding nodes\n",
    "G.add_node('d_vertex_1')\n",
    "G.add_nodes_from([1,10]) #iterable container\n",
    "\n",
    "#removing nodes\n",
    "G.remove_node('d_vertex_1')\n",
    "G.remove_nodes_from([(1,2), (2,3)]) #iterable container\n",
    "\n",
    "#adding and removing edges\n",
    "G.add_edge(5,100) #adds an edge between two nodes \n",
    "G.remove_edge(5,100)\n",
    "#G.add_edges_from()\n",
    "#G.remove_edges_from()\n",
    "\n",
    "G.add_weighted_edges_from([(0,1,3), (1,4,7.5)]) #weighted edge between 0, and 1 which has weight 3, or the following example\n",
    "G.add_path([5,4,10])\n",
    "\n",
    "#drawing the complex graph\n",
    "nx.draw(G, with_labels=True)\n",
    "plt.draw()\n",
    "plt.show()"
   ]
  },
  {
   "cell_type": "code",
   "execution_count": null,
   "metadata": {},
   "outputs": [],
   "source": []
  }
 ],
 "metadata": {
  "kernelspec": {
   "display_name": "Python 3",
   "language": "python",
   "name": "python3"
  },
  "language_info": {
   "codemirror_mode": {
    "name": "ipython",
    "version": 3
   },
   "file_extension": ".py",
   "mimetype": "text/x-python",
   "name": "python",
   "nbconvert_exporter": "python",
   "pygments_lexer": "ipython3",
   "version": "3.6.6"
  }
 },
 "nbformat": 4,
 "nbformat_minor": 2
}
